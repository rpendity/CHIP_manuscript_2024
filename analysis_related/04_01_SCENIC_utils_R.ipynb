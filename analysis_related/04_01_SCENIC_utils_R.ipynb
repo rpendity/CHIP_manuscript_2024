{
 "cells": [
  {
   "cell_type": "code",
   "execution_count": null,
   "metadata": {
    "vscode": {
     "languageId": "r"
    }
   },
   "outputs": [],
   "source": [
    "vlib = c(\"tidyverse\", \"data.table\", \"Seurat\", \"tidyseurat\", \"SeuratDisk\",\n",
    "         \"ggsci\", \"ggpubr\", \"SCopeLoomR\")\n",
    "lapply(vlib, require, character.only = TRUE, quietly = TRUE) |> suppressMessages()\n",
    "setwd(\"202111-CHIP/\")"
   ]
  },
  {
   "cell_type": "code",
   "execution_count": null,
   "metadata": {
    "vscode": {
     "languageId": "r"
    }
   },
   "outputs": [],
   "source": [
    "\n",
    "seurat_obj = readRDS(\"CHIP_scRNA/hdWGCNA/230808_hdWGCNA.RDS\")\n",
    "\n",
    "update_md = fread(\"/data/podo/Projects/project_HS/202111-CHIP/CHIP_scRNA/230724_CHIP_subset/final_anno_230802/230809_all_merged.txt.gz\")\n",
    "colnames(update_md) = c(\"cell\", \"rn_anno_l1\", \"rn_anno_l2\")\n",
    "\n",
    "temp_md = seurat_obj@meta.data %>% rownames_to_column(\"cell\") \n",
    "\n",
    "new_md = left_join(temp_md, update_md) %>%\n",
    "  mutate(anno_l1 = ifelse(is.na(rn_anno_l1) ==FALSE, rn_anno_l1, anno_l1)) %>%\n",
    "  mutate(anno_l2 = ifelse(is.na(rn_anno_l2) ==FALSE, rn_anno_l2, anno_l2)) %>%\n",
    "  select(-rn_anno_l1, -rn_anno_l2) %>%\n",
    "  mutate(VAF_bin = ifelse(CHIP_MaxAF >= 0.1, \"VAF>=0.1\",\n",
    "                          ifelse(CHIP_MaxAF >= 0.02, \"0.1>VAF>=0.02\", \"Negative\"))) %>%\n",
    "  mutate(VAF_bin= factor(VAF_bin, levels = c(\"VAF>=0.1\", \"0.1>VAF>=0.02\", \"Negative\"))) %>%\n",
    "  mutate(time = factor(time, levels = c(\"base\", \"1st\"))) %>%\n",
    "  mutate(group = paste(sep = \"-\", VAF_bin, anno_l2, time, Pathology)) %>%\n",
    "  column_to_rownames(\"cell\")\n",
    "\n",
    "seurat_obj@meta.data = new_md\n",
    "seurat_obj@meta.data = seurat_obj@meta.data %>% \n",
    "  mutate(DNMT3A = ifelse(CHIP_ID %in% list_targetGene_sampleID$DNMT3A, list_targetGene_levels$DNMT3A[1], list_targetGene_levels$DNMT3A[2]),\n",
    "         TET2 = ifelse(CHIP_ID %in% list_targetGene_sampleID$TET2, list_targetGene_levels$TET2[1], list_targetGene_levels$TET2[2]),\n",
    "         PPM1D = ifelse(CHIP_ID %in% list_targetGene_sampleID$PPM1D, list_targetGene_levels$PPM1D[1], list_targetGene_levels$PPM1D[2])) %>%\n",
    "  mutate(DNMT3A = factor(DNMT3A, levels = list_targetGene_levels$DNMT3A),\n",
    "         TET2 = factor(TET2, levels = list_targetGene_levels$TET2),\n",
    "         PPM1D = factor(PPM1D, levels = list_targetGene_levels$PPM1D))\n",
    "\n"
   ]
  }
 ],
 "metadata": {
  "language_info": {
   "name": "python"
  }
 },
 "nbformat": 4,
 "nbformat_minor": 2
}
